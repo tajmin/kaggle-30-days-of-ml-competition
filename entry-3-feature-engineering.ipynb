{
 "cells": [
  {
   "cell_type": "code",
   "execution_count": 1,
   "id": "7e8ca410",
   "metadata": {
    "_cell_guid": "b1076dfc-b9ad-4769-8c92-a6c4dae69d19",
    "_uuid": "8f2839f25d086af736a60e9eeb907d3b93b6e0e5",
    "execution": {
     "iopub.execute_input": "2021-08-25T12:29:01.044890Z",
     "iopub.status.busy": "2021-08-25T12:29:01.044242Z",
     "iopub.status.idle": "2021-08-25T12:29:02.203497Z",
     "shell.execute_reply": "2021-08-25T12:29:02.202907Z",
     "shell.execute_reply.started": "2021-08-25T12:25:03.745692Z"
    },
    "papermill": {
     "duration": 1.177796,
     "end_time": "2021-08-25T12:29:02.203640",
     "exception": false,
     "start_time": "2021-08-25T12:29:01.025844",
     "status": "completed"
    },
    "tags": []
   },
   "outputs": [],
   "source": [
    "import pandas as pd\n",
    "import numpy as np\n",
    "from sklearn import preprocessing\n",
    "from sklearn.model_selection import train_test_split\n",
    "from sklearn.ensemble import RandomForestRegressor\n",
    "from sklearn.metrics import mean_squared_error\n",
    "from xgboost import XGBRegressor"
   ]
  },
  {
   "cell_type": "code",
   "execution_count": 2,
   "id": "86bea4f2",
   "metadata": {
    "execution": {
     "iopub.execute_input": "2021-08-25T12:29:02.230494Z",
     "iopub.status.busy": "2021-08-25T12:29:02.228744Z",
     "iopub.status.idle": "2021-08-25T12:29:27.553476Z",
     "shell.execute_reply": "2021-08-25T12:29:27.553886Z",
     "shell.execute_reply.started": "2021-08-25T11:36:39.054003Z"
    },
    "papermill": {
     "duration": 25.344128,
     "end_time": "2021-08-25T12:29:27.554085",
     "exception": false,
     "start_time": "2021-08-25T12:29:02.209957",
     "status": "completed"
    },
    "tags": []
   },
   "outputs": [
    {
     "name": "stdout",
     "output_type": "stream",
     "text": [
      "0 0.7245705537554137\n",
      "1 0.7242510333821858\n",
      "2 0.7270667092065692\n",
      "3 0.7268359229595335\n",
      "4 0.7257178555909586\n",
      "0.7256884149789322 0.0011430674400777338\n"
     ]
    }
   ],
   "source": [
    "df = pd.read_csv(\"../input/30days-folds/train_folds.csv\")\n",
    "df_test = pd.read_csv(\"../input/30-days-of-ml/test.csv\")\n",
    "sample_submission = pd.read_csv(\"../input/30-days-of-ml/sample_submission.csv\")\n",
    "\n",
    "useful_features = [c for c in df.columns if c not in (\"id\", \"target\", \"kfold\")]\n",
    "object_cols = [col for col in useful_features if 'cat' in col]\n",
    "df_test = df_test[useful_features]\n",
    "\n",
    "final_predictions = []\n",
    "scores = []\n",
    "for fold in range(5):\n",
    "    xtrain =  df[df.kfold != fold].reset_index(drop=True)\n",
    "    xvalid = df[df.kfold == fold].reset_index(drop=True)\n",
    "    xtest = df_test.copy()\n",
    "\n",
    "    ytrain = xtrain.target\n",
    "    yvalid = xvalid.target\n",
    "    \n",
    "    xtrain = xtrain[useful_features]\n",
    "    xvalid = xvalid[useful_features]\n",
    "    \n",
    "    ordinal_encoder = preprocessing.OrdinalEncoder()\n",
    "    xtrain[object_cols] = ordinal_encoder.fit_transform(xtrain[object_cols])\n",
    "    xvalid[object_cols] = ordinal_encoder.transform(xvalid[object_cols])\n",
    "    xtest[object_cols] = ordinal_encoder.transform(xtest[object_cols])\n",
    "    \n",
    "    model = XGBRegressor(random_state=fold, tree_method='gpu_hist', gpu_id=0, predictor=\"gpu_predictor\")\n",
    "    model.fit(xtrain, ytrain)\n",
    "    preds_valid = model.predict(xvalid)\n",
    "    test_preds = model.predict(xtest)\n",
    "    final_predictions.append(test_preds)\n",
    "    rmse = mean_squared_error(yvalid, preds_valid, squared=False)\n",
    "    print(fold, rmse)\n",
    "    scores.append(rmse)\n",
    "\n",
    "print(np.mean(scores), np.std(scores))"
   ]
  },
  {
   "cell_type": "code",
   "execution_count": 3,
   "id": "2338f064",
   "metadata": {
    "execution": {
     "iopub.execute_input": "2021-08-25T12:29:27.579486Z",
     "iopub.status.busy": "2021-08-25T12:29:27.578813Z",
     "iopub.status.idle": "2021-08-25T12:30:13.798739Z",
     "shell.execute_reply": "2021-08-25T12:30:13.799300Z",
     "shell.execute_reply.started": "2021-08-25T12:25:13.516453Z"
    },
    "papermill": {
     "duration": 46.237629,
     "end_time": "2021-08-25T12:30:13.799509",
     "exception": false,
     "start_time": "2021-08-25T12:29:27.561880",
     "status": "completed"
    },
    "tags": []
   },
   "outputs": [
    {
     "name": "stdout",
     "output_type": "stream",
     "text": [
      "0 0.7211391269257958\n",
      "1 0.7209206966431884\n",
      "2 0.723511808616355\n",
      "3 0.7229624496684607\n",
      "4 0.7220155967813943\n",
      "0.7221099357270389 0.0010057521346645956\n"
     ]
    }
   ],
   "source": [
    "# standardization\n",
    "df = pd.read_csv(\"../input/30days-folds/train_folds.csv\")\n",
    "df_test = pd.read_csv(\"../input/30-days-of-ml/test.csv\")\n",
    "sample_submission = pd.read_csv(\"../input/30-days-of-ml/sample_submission.csv\")\n",
    "\n",
    "useful_features = [c for c in df.columns if c not in (\"id\", \"target\", \"kfold\")]\n",
    "object_cols = [col for col in useful_features if 'cat' in col]\n",
    "numerical_cols = [col for col in useful_features if col.startswith(\"cont\")]\n",
    "df_test = df_test[useful_features]\n",
    "\n",
    "final_predictions = []\n",
    "scores = []\n",
    "for fold in range(5):\n",
    "    xtrain =  df[df.kfold != fold].reset_index(drop=True)\n",
    "    xvalid = df[df.kfold == fold].reset_index(drop=True)\n",
    "    xtest = df_test.copy()\n",
    "\n",
    "    ytrain = xtrain.target\n",
    "    yvalid = xvalid.target\n",
    "    \n",
    "    xtrain = xtrain[useful_features]\n",
    "    xvalid = xvalid[useful_features]\n",
    "    \n",
    "    ordinal_encoder = preprocessing.OrdinalEncoder()\n",
    "    xtrain[object_cols] = ordinal_encoder.fit_transform(xtrain[object_cols])\n",
    "    xvalid[object_cols] = ordinal_encoder.transform(xvalid[object_cols])\n",
    "    xtest[object_cols] = ordinal_encoder.transform(xtest[object_cols])\n",
    "    \n",
    "    scaler = preprocessing.StandardScaler()\n",
    "    xtrain[numerical_cols] = scaler.fit_transform(xtrain[numerical_cols])\n",
    "    xvalid[numerical_cols] = scaler.transform(xvalid[numerical_cols])\n",
    "    xtest[numerical_cols] = scaler.transform(xtest[numerical_cols])\n",
    "    \n",
    "    model = XGBRegressor(n_estimators=1000, learning_rate=0.05, random_state=fold, tree_method='gpu_hist', gpu_id=0, predictor=\"gpu_predictor\")\n",
    "    model.fit(xtrain, ytrain)\n",
    "    preds_valid = model.predict(xvalid)\n",
    "    test_preds = model.predict(xtest)\n",
    "    final_predictions.append(test_preds)\n",
    "    rmse = mean_squared_error(yvalid, preds_valid, squared=False)\n",
    "    print(fold, rmse)\n",
    "    scores.append(rmse)\n",
    "\n",
    "print(np.mean(scores), np.std(scores))"
   ]
  },
  {
   "cell_type": "code",
   "execution_count": 4,
   "id": "54a46990",
   "metadata": {
    "execution": {
     "iopub.execute_input": "2021-08-25T12:30:13.821100Z",
     "iopub.status.busy": "2021-08-25T12:30:13.820567Z",
     "iopub.status.idle": "2021-08-25T12:30:13.829759Z",
     "shell.execute_reply": "2021-08-25T12:30:13.829368Z",
     "shell.execute_reply.started": "2021-08-25T12:26:11.516345Z"
    },
    "papermill": {
     "duration": 0.02115,
     "end_time": "2021-08-25T12:30:13.829898",
     "exception": false,
     "start_time": "2021-08-25T12:30:13.808748",
     "status": "completed"
    },
    "tags": []
   },
   "outputs": [],
   "source": [
    "preds = np.mean(np.column_stack(final_predictions), axis=1)"
   ]
  },
  {
   "cell_type": "code",
   "execution_count": 5,
   "id": "30e5146e",
   "metadata": {
    "execution": {
     "iopub.execute_input": "2021-08-25T12:30:13.852535Z",
     "iopub.status.busy": "2021-08-25T12:30:13.852042Z",
     "iopub.status.idle": "2021-08-25T12:30:14.324585Z",
     "shell.execute_reply": "2021-08-25T12:30:14.324115Z",
     "shell.execute_reply.started": "2021-08-25T12:26:20.837988Z"
    },
    "papermill": {
     "duration": 0.48615,
     "end_time": "2021-08-25T12:30:14.324717",
     "exception": false,
     "start_time": "2021-08-25T12:30:13.838567",
     "status": "completed"
    },
    "tags": []
   },
   "outputs": [],
   "source": [
    "sample_submission.target = preds\n",
    "sample_submission.to_csv(\"submission.csv\", index=False)"
   ]
  },
  {
   "cell_type": "code",
   "execution_count": 6,
   "id": "7b4f9873",
   "metadata": {
    "execution": {
     "iopub.execute_input": "2021-08-25T12:30:14.353783Z",
     "iopub.status.busy": "2021-08-25T12:30:14.352473Z",
     "iopub.status.idle": "2021-08-25T12:31:00.086739Z",
     "shell.execute_reply": "2021-08-25T12:31:00.087307Z",
     "shell.execute_reply.started": "2021-08-25T11:39:30.784608Z"
    },
    "papermill": {
     "duration": 45.754033,
     "end_time": "2021-08-25T12:31:00.087515",
     "exception": false,
     "start_time": "2021-08-25T12:30:14.333482",
     "status": "completed"
    },
    "tags": []
   },
   "outputs": [
    {
     "name": "stdout",
     "output_type": "stream",
     "text": [
      "0 0.720902595876526\n",
      "1 0.720901103297539\n",
      "2 0.7232275120044029\n",
      "3 0.7224976800158438\n",
      "4 0.7220857293504699\n",
      "0.7219229241089563 0.000910383100529886\n"
     ]
    }
   ],
   "source": [
    "# log transformation\n",
    "df = pd.read_csv(\"../input/30days-folds/train_folds.csv\")\n",
    "df_test = pd.read_csv(\"../input/30-days-of-ml/test.csv\")\n",
    "sample_submission = pd.read_csv(\"../input/30-days-of-ml/sample_submission.csv\")\n",
    "\n",
    "useful_features = [c for c in df.columns if c not in (\"id\", \"target\", \"kfold\")]\n",
    "object_cols = [col for col in useful_features if 'cat' in col]\n",
    "numerical_cols = [col for col in useful_features if col.startswith(\"cont\")]\n",
    "df_test = df_test[useful_features]\n",
    "\n",
    "for col in numerical_cols:\n",
    "    df[col] = np.log1p(df[col])\n",
    "    df_test[col] = np.log1p(df_test[col])\n",
    "\n",
    "final_predictions = []\n",
    "scores = []\n",
    "for fold in range(5):\n",
    "    xtrain =  df[df.kfold != fold].reset_index(drop=True)\n",
    "    xvalid = df[df.kfold == fold].reset_index(drop=True)\n",
    "    xtest = df_test.copy()\n",
    "\n",
    "    ytrain = xtrain.target\n",
    "    yvalid = xvalid.target\n",
    "    \n",
    "    xtrain = xtrain[useful_features]\n",
    "    xvalid = xvalid[useful_features]\n",
    "    \n",
    "    ordinal_encoder = preprocessing.OrdinalEncoder()\n",
    "    xtrain[object_cols] = ordinal_encoder.fit_transform(xtrain[object_cols])\n",
    "    xvalid[object_cols] = ordinal_encoder.transform(xvalid[object_cols])\n",
    "    xtest[object_cols] = ordinal_encoder.transform(xtest[object_cols])\n",
    "    \n",
    "    model = XGBRegressor(n_estimators=1000, learning_rate=0.05,random_state=fold, tree_method='gpu_hist', gpu_id=0, predictor=\"gpu_predictor\")\n",
    "    model.fit(xtrain, ytrain)\n",
    "    preds_valid = model.predict(xvalid)\n",
    "    test_preds = model.predict(xtest)\n",
    "    final_predictions.append(test_preds)\n",
    "    rmse = mean_squared_error(yvalid, preds_valid, squared=False)\n",
    "    print(fold, rmse)\n",
    "    scores.append(rmse)\n",
    "\n",
    "print(np.mean(scores), np.std(scores))"
   ]
  },
  {
   "cell_type": "code",
   "execution_count": 7,
   "id": "be72e832",
   "metadata": {
    "execution": {
     "iopub.execute_input": "2021-08-25T12:31:00.121042Z",
     "iopub.status.busy": "2021-08-25T12:31:00.120520Z",
     "iopub.status.idle": "2021-08-25T12:34:21.096469Z",
     "shell.execute_reply": "2021-08-25T12:34:21.096897Z",
     "shell.execute_reply.started": "2021-08-25T11:42:27.733937Z"
    },
    "papermill": {
     "duration": 200.998875,
     "end_time": "2021-08-25T12:34:21.097050",
     "exception": false,
     "start_time": "2021-08-25T12:31:00.098175",
     "status": "completed"
    },
    "tags": []
   },
   "outputs": [
    {
     "name": "stdout",
     "output_type": "stream",
     "text": [
      "0 0.723813260414862\n",
      "1 0.7239173613817603\n",
      "2 0.7257133183658986\n",
      "3 0.7254059591454352\n",
      "4 0.7242706310564176\n",
      "0.7246241060728748 0.0007848032840326558\n"
     ]
    }
   ],
   "source": [
    "# polynomial features\n",
    "df = pd.read_csv(\"../input/30days-folds/train_folds.csv\")\n",
    "df_test = pd.read_csv(\"../input/30-days-of-ml/test.csv\")\n",
    "sample_submission = pd.read_csv(\"../input/30-days-of-ml/sample_submission.csv\")\n",
    "\n",
    "useful_features = [c for c in df.columns if c not in (\"id\", \"target\", \"kfold\")]\n",
    "object_cols = [col for col in useful_features if 'cat' in col]\n",
    "numerical_cols = [col for col in useful_features if col.startswith(\"cont\")]\n",
    "df_test = df_test[useful_features]\n",
    "\n",
    "poly = preprocessing.PolynomialFeatures(degree=3, interaction_only=True, include_bias=False)\n",
    "train_poly = poly.fit_transform(df[numerical_cols])\n",
    "test_poly = poly.fit_transform(df_test[numerical_cols])\n",
    "\n",
    "df_poly = pd.DataFrame(train_poly, columns=[f\"poly_{i}\" for i in range(train_poly.shape[1])])\n",
    "df_test_poly = pd.DataFrame(test_poly, columns=[f\"poly_{i}\" for i in range(test_poly.shape[1])])\n",
    "\n",
    "df = pd.concat([df, df_poly], axis=1)\n",
    "df_test = pd.concat([df_test, df_test_poly], axis=1)\n",
    "\n",
    "useful_features = [c for c in df.columns if c not in (\"id\", \"target\", \"kfold\")]\n",
    "object_cols = [col for col in useful_features if 'cat' in col]\n",
    "df_test = df_test[useful_features]\n",
    "\n",
    "final_predictions = []\n",
    "scores = []\n",
    "for fold in range(5):\n",
    "    xtrain =  df[df.kfold != fold].reset_index(drop=True)\n",
    "    xvalid = df[df.kfold == fold].reset_index(drop=True)\n",
    "    xtest = df_test.copy()\n",
    "\n",
    "    ytrain = xtrain.target\n",
    "    yvalid = xvalid.target\n",
    "    \n",
    "    xtrain = xtrain[useful_features]\n",
    "    xvalid = xvalid[useful_features]\n",
    "    \n",
    "    ordinal_encoder = preprocessing.OrdinalEncoder()\n",
    "    xtrain[object_cols] = ordinal_encoder.fit_transform(xtrain[object_cols])\n",
    "    xvalid[object_cols] = ordinal_encoder.transform(xvalid[object_cols])\n",
    "    xtest[object_cols] = ordinal_encoder.transform(xtest[object_cols])\n",
    "    \n",
    "    model = XGBRegressor(n_estimators=1000, learning_rate=0.05,random_state=fold, tree_method='gpu_hist', gpu_id=0, predictor=\"gpu_predictor\")\n",
    "    model.fit(xtrain, ytrain)\n",
    "    preds_valid = model.predict(xvalid)\n",
    "    test_preds = model.predict(xtest)\n",
    "    final_predictions.append(test_preds)\n",
    "    rmse = mean_squared_error(yvalid, preds_valid, squared=False)\n",
    "    print(fold, rmse)\n",
    "    scores.append(rmse)\n",
    "\n",
    "print(np.mean(scores), np.std(scores))"
   ]
  }
 ],
 "metadata": {
  "kernelspec": {
   "display_name": "Python 3",
   "language": "python",
   "name": "python3"
  },
  "language_info": {
   "codemirror_mode": {
    "name": "ipython",
    "version": 3
   },
   "file_extension": ".py",
   "mimetype": "text/x-python",
   "name": "python",
   "nbconvert_exporter": "python",
   "pygments_lexer": "ipython3",
   "version": "3.7.10"
  },
  "papermill": {
   "default_parameters": {},
   "duration": 327.150369,
   "end_time": "2021-08-25T12:34:21.715350",
   "environment_variables": {},
   "exception": null,
   "input_path": "__notebook__.ipynb",
   "output_path": "__notebook__.ipynb",
   "parameters": {},
   "start_time": "2021-08-25T12:28:54.564981",
   "version": "2.3.3"
  }
 },
 "nbformat": 4,
 "nbformat_minor": 5
}
